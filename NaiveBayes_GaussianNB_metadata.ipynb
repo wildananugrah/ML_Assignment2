{
 "cells": [
  {
   "cell_type": "code",
   "execution_count": 4,
   "metadata": {},
   "outputs": [
    {
     "data": {
      "text/plain": [
       "array([[0.67829633, 0.33661613, 0.42857143, ..., 0.        , 0.        ,\n",
       "        0.        ],\n",
       "       [0.76121432, 0.47822839, 0.14285714, ..., 0.        , 0.        ,\n",
       "        0.        ],\n",
       "       [0.84900317, 0.45218072, 0.57142857, ..., 0.        , 0.        ,\n",
       "        0.        ],\n",
       "       ...,\n",
       "       [0.68393181, 0.79811964, 0.14285714, ..., 0.        , 0.        ,\n",
       "        0.        ],\n",
       "       [0.66130494, 0.57790986, 0.57142857, ..., 0.        , 0.        ,\n",
       "        0.        ],\n",
       "       [0.89776846, 0.37162696, 0.14285714, ..., 0.        , 0.        ,\n",
       "        0.        ]])"
      ]
     },
     "execution_count": 4,
     "metadata": {},
     "output_type": "execute_result"
    }
   ],
   "source": [
    "import pandas as pd\n",
    "from sklearn.feature_extraction.text import TfidfVectorizer\n",
    "from sklearn.metrics import confusion_matrix, classification_report\n",
    "from sklearn.naive_bayes import MultinomialNB\n",
    "from sklearn.preprocessing import MinMaxScaler\n",
    "\n",
    "X_train = pd.read_csv(\"dataset/train_features.csv\")\n",
    "y_train = pd.read_csv(\"dataset/train_labels.csv\")\n",
    "X_test = pd.read_csv(\"dataset/valid_features.csv\")\n",
    "y_test = pd.read_csv(\"dataset/valid_labels.csv\")\n",
    "\n",
    "X_train = pd.DataFrame(X_train, columns=[\"loudness\",\"title\",\"tempo\", \"time_signature\",\"key\",\"mode\",\"duration\"])\n",
    "X_test = pd.DataFrame(X_test, columns=[\"loudness\",\"title\",\"tempo\", \"time_signature\",\"key\",\"mode\",\"duration\"])\n",
    "\n",
    "cleanup_nums = {\"genre\": \n",
    "                {\"classic pop and rock\": 1, \n",
    "                 \"dance and electronica\": 2,\n",
    "                 \"folk\":3,\n",
    "                 \"jazz and blues\":4,\n",
    "                 \"metal\":5,\n",
    "                 \"pop\":6,\n",
    "                 \"punk\":7,\n",
    "                 \"soul and reggae\":8\n",
    "                }}\n",
    "y_train.replace(cleanup_nums, inplace=True)\n",
    "y_test.replace(cleanup_nums, inplace=True)\n",
    "\n",
    "\n",
    "tfidf_vect = TfidfVectorizer()\n",
    "X_title_cv_train = tfidf_vect.fit_transform(X_train['title'])\n",
    "df_title_cv_train = pd.DataFrame(X_title_cv_train.toarray(), columns=tfidf_vect.get_feature_names())\n",
    "X_train = pd.concat([X_train, df_title_cv_train], axis=1)\n",
    "X_train = X_train.drop([\"title\"], 1)\n",
    "\n",
    "X_title_cv_test = tfidf_vect.transform(X_test['title'])\n",
    "df_title_cv_test = pd.DataFrame(X_title_cv_test.toarray(), columns=tfidf_vect.get_feature_names())\n",
    "X_test = pd.concat([X_test, df_title_cv_test], axis=1)\n",
    "X_test = X_test.drop([\"title\"], 1)\n",
    "\n",
    "scaler = MinMaxScaler()\n",
    "scaler.fit(X_train)\n",
    "X_train = scaler.transform(X_train)\n",
    "X_test = scaler.transform(X_test)"
   ]
  },
  {
   "cell_type": "code",
   "execution_count": 2,
   "metadata": {},
   "outputs": [
    {
     "name": "stdout",
     "output_type": "stream",
     "text": [
      "Classificaion report: \n",
      "\n",
      "              precision    recall  f1-score   support\n",
      "\n",
      "           1       0.15      0.67      0.24        55\n",
      "           2       0.00      0.00      0.00        45\n",
      "           3       0.30      0.53      0.38        64\n",
      "           4       0.00      0.00      0.00        44\n",
      "           5       0.48      0.15      0.23        66\n",
      "           6       0.91      0.43      0.59        74\n",
      "           7       0.52      0.32      0.39        44\n",
      "           8       0.80      0.07      0.13        58\n",
      "\n",
      "    accuracy                           0.29       450\n",
      "   macro avg       0.39      0.27      0.25       450\n",
      "weighted avg       0.43      0.29      0.27       450\n",
      "\n",
      "Confusion matrix: \n",
      "\n",
      "[[37  0 17  0  1  0  0  0]\n",
      " [33  0 11  0  0  0  1  0]\n",
      " [27  0 34  0  3  0  0  0]\n",
      " [31  0 11  0  1  0  0  1]\n",
      " [38  0 18  0 10  0  0  0]\n",
      " [27  0  4  0  0 32 11  0]\n",
      " [21  0  6  0  0  3 14  0]\n",
      " [34  0 13  0  6  0  1  4]]\n",
      "\n",
      "\n",
      "\n",
      "\n"
     ]
    },
    {
     "name": "stderr",
     "output_type": "stream",
     "text": [
      "/home/wildan/.local/lib/python3.6/site-packages/sklearn/metrics/_classification.py:1221: UndefinedMetricWarning: Precision and F-score are ill-defined and being set to 0.0 in labels with no predicted samples. Use `zero_division` parameter to control this behavior.\n",
      "  _warn_prf(average, modifier, msg_start, len(result))\n"
     ]
    },
    {
     "ename": "NameError",
     "evalue": "name 'metrics' is not defined",
     "output_type": "error",
     "traceback": [
      "\u001b[0;31m---------------------------------------------------------------------------\u001b[0m",
      "\u001b[0;31mNameError\u001b[0m                                 Traceback (most recent call last)",
      "\u001b[0;32m<ipython-input-2-c35241c25a47>\u001b[0m in \u001b[0;36m<module>\u001b[0;34m\u001b[0m\n\u001b[1;32m     18\u001b[0m     \u001b[0;32mreturn\u001b[0m \u001b[0mCM\u001b[0m\u001b[0;34m,\u001b[0m \u001b[0mAcc\u001b[0m\u001b[0;34m,\u001b[0m \u001b[0mprecf1\u001b[0m\u001b[0;34m\u001b[0m\u001b[0;34m\u001b[0m\u001b[0m\n\u001b[1;32m     19\u001b[0m \u001b[0;34m\u001b[0m\u001b[0m\n\u001b[0;32m---> 20\u001b[0;31m \u001b[0mCM\u001b[0m\u001b[0;34m,\u001b[0m \u001b[0mAcc\u001b[0m\u001b[0;34m,\u001b[0m \u001b[0mprecf1\u001b[0m \u001b[0;34m=\u001b[0m \u001b[0mevaluate\u001b[0m\u001b[0;34m(\u001b[0m\u001b[0mpred_mnb\u001b[0m\u001b[0;34m,\u001b[0m \u001b[0my_test\u001b[0m\u001b[0;34m[\u001b[0m\u001b[0;34m\"genre\"\u001b[0m\u001b[0;34m]\u001b[0m\u001b[0;34m)\u001b[0m\u001b[0;34m\u001b[0m\u001b[0;34m\u001b[0m\u001b[0m\n\u001b[0m\u001b[1;32m     21\u001b[0m \u001b[0;34m\u001b[0m\u001b[0m\n\u001b[1;32m     22\u001b[0m \u001b[0mcorrect\u001b[0m \u001b[0;34m=\u001b[0m \u001b[0;36m0\u001b[0m\u001b[0;34m\u001b[0m\u001b[0;34m\u001b[0m\u001b[0m\n",
      "\u001b[0;32m<ipython-input-2-c35241c25a47>\u001b[0m in \u001b[0;36mevaluate\u001b[0;34m(pred, true)\u001b[0m\n\u001b[1;32m     13\u001b[0m \u001b[0;34m\u001b[0m\u001b[0m\n\u001b[1;32m     14\u001b[0m \u001b[0;32mdef\u001b[0m \u001b[0mevaluate\u001b[0m\u001b[0;34m(\u001b[0m\u001b[0mpred\u001b[0m\u001b[0;34m,\u001b[0m \u001b[0mtrue\u001b[0m\u001b[0;34m)\u001b[0m\u001b[0;34m:\u001b[0m\u001b[0;34m\u001b[0m\u001b[0;34m\u001b[0m\u001b[0m\n\u001b[0;32m---> 15\u001b[0;31m     \u001b[0mCM\u001b[0m \u001b[0;34m=\u001b[0m \u001b[0mmetrics\u001b[0m\u001b[0;34m.\u001b[0m\u001b[0mconfusion_matrix\u001b[0m\u001b[0;34m(\u001b[0m\u001b[0mtrue\u001b[0m\u001b[0;34m,\u001b[0m \u001b[0mpred\u001b[0m\u001b[0;34m)\u001b[0m \u001b[0;31m# Confusion Matrix\u001b[0m\u001b[0;34m\u001b[0m\u001b[0;34m\u001b[0m\u001b[0m\n\u001b[0m\u001b[1;32m     16\u001b[0m     \u001b[0mAcc\u001b[0m \u001b[0;34m=\u001b[0m \u001b[0mmetrics\u001b[0m\u001b[0;34m.\u001b[0m\u001b[0maccuracy_score\u001b[0m\u001b[0;34m(\u001b[0m\u001b[0mtrue\u001b[0m\u001b[0;34m,\u001b[0m \u001b[0mpred\u001b[0m\u001b[0;34m)\u001b[0m \u001b[0;31m# Accuracy\u001b[0m\u001b[0;34m\u001b[0m\u001b[0;34m\u001b[0m\u001b[0m\n\u001b[1;32m     17\u001b[0m     \u001b[0mprecf1\u001b[0m \u001b[0;34m=\u001b[0m \u001b[0mmetrics\u001b[0m\u001b[0;34m.\u001b[0m\u001b[0mprecision_recall_fscore_support\u001b[0m\u001b[0;34m(\u001b[0m\u001b[0mtrue\u001b[0m\u001b[0;34m,\u001b[0m \u001b[0mpred\u001b[0m\u001b[0;34m)\u001b[0m \u001b[0;31m# Precision, Recall and F1-score\u001b[0m\u001b[0;34m\u001b[0m\u001b[0;34m\u001b[0m\u001b[0m\n",
      "\u001b[0;31mNameError\u001b[0m: name 'metrics' is not defined"
     ]
    }
   ],
   "source": [
    "mnb=MultinomialNB(alpha = 1.0)\n",
    "y_train[\"genre\"] = y_train[\"genre\"].astype('int')\n",
    "mnb.fit(X_train, y_train[\"genre\"])\n",
    "pred_mnb=mnb.predict(X_test)\n",
    "\n",
    "# let's how our model performed\n",
    "print(\"Classificaion report: \\n\")\n",
    "print(classification_report(y_test[\"genre\"], pred_mnb))\n",
    "print(\"Confusion matrix: \\n\")\n",
    "print(confusion_matrix(y_test[\"genre\"], pred_mnb))\n",
    "\n",
    "print(\"\\n\\n\\n\")\n",
    "\n",
    "def evaluate(pred, true):\n",
    "    CM = metrics.confusion_matrix(true, pred) # Confusion Matrix\n",
    "    Acc = metrics.accuracy_score(true, pred) # Accuracy\n",
    "    precf1 = metrics.precision_recall_fscore_support(true, pred) # Precision, Recall and F1-score\n",
    "    return CM, Acc, precf1\n",
    "\n",
    "CM, Acc, precf1 = evaluate(pred_mnb, y_test[\"genre\"])\n",
    "\n",
    "correct = 0\n",
    "for i in range(len(y_test)):\n",
    "    correct = correct + int(pred_mnb[i]==y_test[\"genre\"][i])\n",
    "    \n",
    "print(\"Confusion Matrix:\\n{}\\naccuracy: {}\\naccuracy by sklearn.metric: {}\\nprecision: {}\\nrecall: {}\\nF1: {}\\n\".format(\n",
    "                                                CM,\n",
    "                                                correct / len(y_test), \n",
    "                                                Acc,\n",
    "                                                precf1[0],\n",
    "                                                precf1[1],\n",
    "                                                precf1[2]))"
   ]
  },
  {
   "cell_type": "code",
   "execution_count": null,
   "metadata": {},
   "outputs": [],
   "source": []
  }
 ],
 "metadata": {
  "kernelspec": {
   "display_name": "Python 3",
   "language": "python",
   "name": "python3"
  },
  "language_info": {
   "codemirror_mode": {
    "name": "ipython",
    "version": 3
   },
   "file_extension": ".py",
   "mimetype": "text/x-python",
   "name": "python",
   "nbconvert_exporter": "python",
   "pygments_lexer": "ipython3",
   "version": "3.6.9"
  }
 },
 "nbformat": 4,
 "nbformat_minor": 4
}
