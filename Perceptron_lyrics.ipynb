{
 "cells": [
  {
   "cell_type": "code",
   "execution_count": 3,
   "metadata": {},
   "outputs": [
    {
     "data": {
      "text/plain": [
       "(7678, 4625)"
      ]
     },
     "execution_count": 3,
     "metadata": {},
     "output_type": "execute_result"
    }
   ],
   "source": [
    "import pandas as pd\n",
    "from sklearn.feature_extraction.text import TfidfVectorizer\n",
    "from sklearn.metrics import confusion_matrix, classification_report\n",
    "from sklearn.linear_model import Perceptron\n",
    "from sklearn.preprocessing import MinMaxScaler\n",
    "\n",
    "X_train = pd.read_csv(\"dataset/train_features.csv\")\n",
    "y_train = pd.read_csv(\"dataset/train_labels.csv\")\n",
    "X_test = pd.read_csv(\"dataset/valid_features.csv\")\n",
    "y_test = pd.read_csv(\"dataset/valid_labels.csv\")\n",
    "\n",
    "cleanup_nums = {\"genre\": \n",
    "                {\"classic pop and rock\": 1, \n",
    "                 \"dance and electronica\": 2,\n",
    "                 \"folk\":3,\n",
    "                 \"jazz and blues\":4,\n",
    "                 \"metal\":5,\n",
    "                 \"pop\":6,\n",
    "                 \"punk\":7,\n",
    "                 \"soul and reggae\":8\n",
    "                }}\n",
    "y_train.replace(cleanup_nums, inplace=True)\n",
    "y_test.replace(cleanup_nums, inplace=True)\n",
    "\n",
    "cv = TfidfVectorizer(min_df=1, stop_words='english')\n",
    "X_train = cv.fit_transform(X_train[\"tags\"])\n",
    "X_test = cv.transform(X_test[\"tags\"])\n",
    "X_train.shape"
   ]
  },
  {
   "cell_type": "code",
   "execution_count": 2,
   "metadata": {},
   "outputs": [
    {
     "name": "stdout",
     "output_type": "stream",
     "text": [
      "Classificaion report: \n",
      "\n",
      "              precision    recall  f1-score   support\n",
      "\n",
      "           1       0.25      0.42      0.32        55\n",
      "           2       0.20      0.09      0.12        45\n",
      "           3       0.48      0.56      0.52        64\n",
      "           4       0.16      0.07      0.10        44\n",
      "           5       0.72      0.55      0.62        66\n",
      "           6       0.73      0.80      0.76        74\n",
      "           7       0.46      0.73      0.56        44\n",
      "           8       0.59      0.45      0.51        58\n",
      "\n",
      "    accuracy                           0.49       450\n",
      "   macro avg       0.45      0.46      0.44       450\n",
      "weighted avg       0.48      0.49      0.47       450\n",
      "\n",
      "Confusion matrix: \n",
      "\n",
      "[[23  5  7  6  1  5  1  7]\n",
      " [10  4  8  1  6  5  4  7]\n",
      " [16  1 36  5  2  1  1  2]\n",
      " [14  1 11  3  5  6  3  1]\n",
      " [ 6  4  4  1 36  2 12  1]\n",
      " [ 1  0  1  0  0 59 13  0]\n",
      " [ 8  0  2  1  0  1 32  0]\n",
      " [13  5  6  2  0  2  4 26]]\n"
     ]
    }
   ],
   "source": [
    "lgr = Perceptron(tol=1e-3, random_state=0)\n",
    "lgr.fit(X_train,y_train[\"genre\"])\n",
    "lgr_pred = lgr.predict(X_test)\n",
    "\n",
    "# let's how our model performed\n",
    "print(\"Classificaion report: \\n\")\n",
    "print(classification_report(y_test[\"genre\"], lgr_pred))\n",
    "print(\"Confusion matrix: \\n\")\n",
    "print(confusion_matrix(y_test[\"genre\"], lgr_pred))"
   ]
  },
  {
   "cell_type": "code",
   "execution_count": null,
   "metadata": {},
   "outputs": [],
   "source": []
  }
 ],
 "metadata": {
  "kernelspec": {
   "display_name": "Python 3",
   "language": "python",
   "name": "python3"
  },
  "language_info": {
   "codemirror_mode": {
    "name": "ipython",
    "version": 3
   },
   "file_extension": ".py",
   "mimetype": "text/x-python",
   "name": "python",
   "nbconvert_exporter": "python",
   "pygments_lexer": "ipython3",
   "version": "3.6.9"
  }
 },
 "nbformat": 4,
 "nbformat_minor": 4
}
