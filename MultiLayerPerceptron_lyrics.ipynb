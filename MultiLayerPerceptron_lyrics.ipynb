{
 "cells": [
  {
   "cell_type": "code",
   "execution_count": 1,
   "metadata": {},
   "outputs": [
    {
     "data": {
      "text/plain": [
       "(7678, 4625)"
      ]
     },
     "execution_count": 1,
     "metadata": {},
     "output_type": "execute_result"
    }
   ],
   "source": [
    "import pandas as pd\n",
    "from sklearn.feature_extraction.text import TfidfVectorizer\n",
    "from sklearn.metrics import confusion_matrix, classification_report\n",
    "from sklearn.neural_network import MLPClassifier\n",
    "from sklearn.preprocessing import MinMaxScaler\n",
    "\n",
    "X_train = pd.read_csv(\"dataset/train_features.csv\")\n",
    "y_train = pd.read_csv(\"dataset/train_labels.csv\")\n",
    "X_test = pd.read_csv(\"dataset/valid_features.csv\")\n",
    "y_test = pd.read_csv(\"dataset/valid_labels.csv\")\n",
    "\n",
    "cleanup_nums = {\"genre\": \n",
    "                {\"classic pop and rock\": 1, \n",
    "                 \"dance and electronica\": 2,\n",
    "                 \"folk\":3,\n",
    "                 \"jazz and blues\":4,\n",
    "                 \"metal\":5,\n",
    "                 \"pop\":6,\n",
    "                 \"punk\":7,\n",
    "                 \"soul and reggae\":8\n",
    "                }}\n",
    "y_train.replace(cleanup_nums, inplace=True)\n",
    "y_test.replace(cleanup_nums, inplace=True)\n",
    "\n",
    "cv = TfidfVectorizer(min_df=1, stop_words='english')\n",
    "X_train = cv.fit_transform(X_train[\"tags\"])\n",
    "X_test = cv.transform(X_test[\"tags\"])\n",
    "X_train.shape"
   ]
  },
  {
   "cell_type": "code",
   "execution_count": 2,
   "metadata": {},
   "outputs": [
    {
     "name": "stdout",
     "output_type": "stream",
     "text": [
      "Classificaion report: \n",
      "\n",
      "              precision    recall  f1-score   support\n",
      "\n",
      "           1       0.25      0.44      0.32        55\n",
      "           2       0.19      0.11      0.14        45\n",
      "           3       0.46      0.59      0.52        64\n",
      "           4       0.23      0.07      0.11        44\n",
      "           5       0.80      0.59      0.68        66\n",
      "           6       0.87      0.92      0.89        74\n",
      "           7       0.52      0.73      0.60        44\n",
      "           8       0.70      0.53      0.61        58\n",
      "\n",
      "    accuracy                           0.53       450\n",
      "   macro avg       0.50      0.50      0.48       450\n",
      "weighted avg       0.54      0.53      0.52       450\n",
      "\n",
      "Confusion matrix: \n",
      "\n",
      "[[24  4  7  4  2  2  3  9]\n",
      " [18  5  7  1  2  3  6  3]\n",
      " [18  3 38  2  1  0  1  1]\n",
      " [17  1 15  3  4  2  2  0]\n",
      " [ 5  6  5  0 39  2  9  0]\n",
      " [ 0  0  1  0  0 68  5  0]\n",
      " [ 3  1  4  2  1  1 32  0]\n",
      " [11  6  5  1  0  0  4 31]]\n"
     ]
    }
   ],
   "source": [
    "lgr = MLPClassifier(random_state=1, max_iter=300)\n",
    "lgr.fit(X_train,y_train[\"genre\"])\n",
    "lgr_pred = lgr.predict(X_test)\n",
    "\n",
    "# let's how our model performed\n",
    "print(\"Classificaion report: \\n\")\n",
    "print(classification_report(y_test[\"genre\"], lgr_pred))\n",
    "print(\"Confusion matrix: \\n\")\n",
    "print(confusion_matrix(y_test[\"genre\"], lgr_pred))"
   ]
  },
  {
   "cell_type": "code",
   "execution_count": null,
   "metadata": {},
   "outputs": [],
   "source": []
  }
 ],
 "metadata": {
  "kernelspec": {
   "display_name": "Python 3",
   "language": "python",
   "name": "python3"
  },
  "language_info": {
   "codemirror_mode": {
    "name": "ipython",
    "version": 3
   },
   "file_extension": ".py",
   "mimetype": "text/x-python",
   "name": "python",
   "nbconvert_exporter": "python",
   "pygments_lexer": "ipython3",
   "version": "3.6.9"
  }
 },
 "nbformat": 4,
 "nbformat_minor": 4
}
