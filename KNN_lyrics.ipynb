{
 "cells": [
  {
   "cell_type": "code",
   "execution_count": 4,
   "metadata": {},
   "outputs": [
    {
     "data": {
      "text/plain": [
       "array([[0., 0., 0., ..., 0., 0., 0.],\n",
       "       [0., 0., 0., ..., 0., 0., 0.],\n",
       "       [0., 0., 0., ..., 0., 0., 0.],\n",
       "       ...,\n",
       "       [0., 0., 0., ..., 0., 0., 0.],\n",
       "       [0., 0., 0., ..., 0., 0., 0.],\n",
       "       [0., 0., 0., ..., 0., 0., 0.]])"
      ]
     },
     "execution_count": 4,
     "metadata": {},
     "output_type": "execute_result"
    }
   ],
   "source": [
    "import pandas as pd\n",
    "from sklearn.neighbors import KNeighborsClassifier\n",
    "from sklearn.feature_extraction.text import TfidfVectorizer\n",
    "from sklearn.metrics import confusion_matrix, classification_report\n",
    "from sklearn import metrics\n",
    "from sklearn.preprocessing import MinMaxScaler\n",
    "\n",
    "X_train = pd.read_csv(\"dataset/train_features.csv\")\n",
    "y_train = pd.read_csv(\"dataset/train_labels.csv\")\n",
    "X_test = pd.read_csv(\"dataset/valid_features.csv\")\n",
    "y_test = pd.read_csv(\"dataset/valid_labels.csv\")\n",
    "\n",
    "cleanup_nums = {\"genre\": \n",
    "                {\"classic pop and rock\": 1, \n",
    "                 \"dance and electronica\": 2,\n",
    "                 \"folk\":3,\n",
    "                 \"jazz and blues\":4,\n",
    "                 \"metal\":5,\n",
    "                 \"pop\":6,\n",
    "                 \"punk\":7,\n",
    "                 \"soul and reggae\":8\n",
    "                }}\n",
    "y_train.replace(cleanup_nums, inplace=True)\n",
    "y_test.replace(cleanup_nums, inplace=True)\n",
    "\n",
    "cv = TfidfVectorizer(min_df=1, stop_words='english')\n",
    "X_train = cv.fit_transform(X_train[\"tags\"])\n",
    "X_test = cv.transform(X_test[\"tags\"])"
   ]
  },
  {
   "cell_type": "code",
   "execution_count": 2,
   "metadata": {},
   "outputs": [
    {
     "name": "stdout",
     "output_type": "stream",
     "text": [
      "Classificaion report: \n",
      "\n",
      "              precision    recall  f1-score   support\n",
      "\n",
      "           1       0.19      0.60      0.29        55\n",
      "           2       0.08      0.04      0.06        45\n",
      "           3       0.38      0.36      0.37        64\n",
      "           4       0.20      0.02      0.04        44\n",
      "           5       0.61      0.17      0.26        66\n",
      "           6       0.92      0.92      0.92        74\n",
      "           7       0.68      0.59      0.63        44\n",
      "           8       0.43      0.41      0.42        58\n",
      "\n",
      "    accuracy                           0.42       450\n",
      "   macro avg       0.44      0.39      0.37       450\n",
      "weighted avg       0.47      0.42      0.40       450\n",
      "\n",
      "Confusion matrix: \n",
      "\n",
      "[[33  6  3  0  0  0  1 12]\n",
      " [22  2 10  2  1  0  2  6]\n",
      " [27  3 23  0  3  1  0  7]\n",
      " [28  3  7  1  2  0  0  3]\n",
      " [25  8  8  2 11  3  5  4]\n",
      " [ 1  0  1  0  0 68  4  0]\n",
      " [15  1  0  0  0  2 26  0]\n",
      " [23  2  8  0  1  0  0 24]]\n",
      "\n",
      "\n",
      "\n",
      "\n",
      "Confusion Matrix:\n",
      "[[33  6  3  0  0  0  1 12]\n",
      " [22  2 10  2  1  0  2  6]\n",
      " [27  3 23  0  3  1  0  7]\n",
      " [28  3  7  1  2  0  0  3]\n",
      " [25  8  8  2 11  3  5  4]\n",
      " [ 1  0  1  0  0 68  4  0]\n",
      " [15  1  0  0  0  2 26  0]\n",
      " [23  2  8  0  1  0  0 24]]\n",
      "accuracy: 0.4177777777777778\n",
      "accuracy by sklearn.metric: 0.4177777777777778\n",
      "precision: [0.18965517 0.08       0.38333333 0.2        0.61111111 0.91891892\n",
      " 0.68421053 0.42857143]\n",
      "recall: [0.6        0.04444444 0.359375   0.02272727 0.16666667 0.91891892\n",
      " 0.59090909 0.4137931 ]\n",
      "F1: [0.28820961 0.05714286 0.37096774 0.04081633 0.26190476 0.91891892\n",
      " 0.63414634 0.42105263]\n",
      "\n"
     ]
    }
   ],
   "source": [
    "knn = KNeighborsClassifier(n_neighbors=3)\n",
    "y_train[\"genre\"] = y_train[\"genre\"].astype('int')\n",
    "knn.fit(X_train, y_train[\"genre\"])\n",
    "preds=knn.predict(X_test)\n",
    "\n",
    "# let's how our model performed\n",
    "print(\"Classificaion report: \\n\")\n",
    "print(classification_report(y_test[\"genre\"], preds))\n",
    "print(\"Confusion matrix: \\n\")\n",
    "print(confusion_matrix(y_test[\"genre\"], preds))\n",
    "\n",
    "print(\"\\n\\n\\n\")\n",
    "\n",
    "def evaluate(pred, true):\n",
    "    CM = metrics.confusion_matrix(true, pred) # Confusion Matrix\n",
    "    Acc = metrics.accuracy_score(true, pred) # Accuracy\n",
    "    precf1 = metrics.precision_recall_fscore_support(true, pred) # Precision, Recall and F1-score\n",
    "    return CM, Acc, precf1\n",
    "\n",
    "CM, Acc, precf1 = evaluate(preds, y_test[\"genre\"])\n",
    "\n",
    "correct = 0\n",
    "for i in range(len(y_test)):\n",
    "    correct = correct + int(preds[i]==y_test[\"genre\"][i])\n",
    "    \n",
    "print(\"Confusion Matrix:\\n{}\\naccuracy: {}\\naccuracy by sklearn.metric: {}\\nprecision: {}\\nrecall: {}\\nF1: {}\\n\".format(\n",
    "                                                CM,\n",
    "                                                correct / len(y_test), \n",
    "                                                Acc,\n",
    "                                                precf1[0],\n",
    "                                                precf1[1],\n",
    "                                                precf1[2]))"
   ]
  },
  {
   "cell_type": "code",
   "execution_count": null,
   "metadata": {},
   "outputs": [],
   "source": []
  }
 ],
 "metadata": {
  "kernelspec": {
   "display_name": "Python 3",
   "language": "python",
   "name": "python3"
  },
  "language_info": {
   "codemirror_mode": {
    "name": "ipython",
    "version": 3
   },
   "file_extension": ".py",
   "mimetype": "text/x-python",
   "name": "python",
   "nbconvert_exporter": "python",
   "pygments_lexer": "ipython3",
   "version": "3.6.9"
  }
 },
 "nbformat": 4,
 "nbformat_minor": 4
}
