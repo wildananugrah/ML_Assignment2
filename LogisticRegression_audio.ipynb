{
 "cells": [
  {
   "cell_type": "code",
   "execution_count": 1,
   "metadata": {},
   "outputs": [],
   "source": [
    "import pandas as pd\n",
    "from sklearn.feature_extraction.text import TfidfVectorizer\n",
    "from sklearn.metrics import confusion_matrix, classification_report\n",
    "from sklearn.linear_model import LogisticRegression\n",
    "from sklearn.preprocessing import MinMaxScaler\n",
    "\n",
    "X_train = pd.read_csv(\"dataset/train_features.csv\")\n",
    "y_train = pd.read_csv(\"dataset/train_labels.csv\")\n",
    "X_test = pd.read_csv(\"dataset/valid_features.csv\")\n",
    "y_test = pd.read_csv(\"dataset/valid_labels.csv\")\n",
    "\n",
    "cleanup_nums = {\"genre\": \n",
    "                {\"classic pop and rock\": 1, \n",
    "                 \"dance and electronica\": 2,\n",
    "                 \"folk\":3,\n",
    "                 \"jazz and blues\":4,\n",
    "                 \"metal\":5,\n",
    "                 \"pop\":6,\n",
    "                 \"punk\":7,\n",
    "                 \"soul and reggae\":8\n",
    "                }}\n",
    "\n",
    "y_train.replace(cleanup_nums, inplace=True)\n",
    "y_test.replace(cleanup_nums, inplace=True)\n",
    "\n",
    "X_train = pd.DataFrame(X_train)\n",
    "X_test = pd.DataFrame(X_test)\n",
    "\n",
    "X_train = X_train.drop([\"trackID\",\"loudness\",\"title\",\"tempo\", \"time_signature\",\"key\",\"mode\",\"duration\", \"tags\"], 1)\n",
    "X_test = X_test.drop([\"trackID\",\"loudness\",\"title\",\"tempo\", \"time_signature\",\"key\",\"mode\",\"duration\", \"tags\"], 1)\n",
    "\n",
    "scaler = MinMaxScaler()\n",
    "scaler.fit(X_train)\n",
    "X_train = scaler.transform(X_train)\n",
    "X_test = scaler.transform(X_test)"
   ]
  },
  {
   "cell_type": "code",
   "execution_count": 2,
   "metadata": {},
   "outputs": [
    {
     "name": "stdout",
     "output_type": "stream",
     "text": [
      "Classificaion report: \n",
      "\n",
      "              precision    recall  f1-score   support\n",
      "\n",
      "           1       0.27      0.64      0.38        55\n",
      "           2       0.52      0.24      0.33        45\n",
      "           3       0.36      0.66      0.46        64\n",
      "           4       0.70      0.16      0.26        44\n",
      "           5       0.80      0.67      0.73        66\n",
      "           6       0.33      0.04      0.07        74\n",
      "           7       0.44      0.55      0.49        44\n",
      "           8       0.67      0.64      0.65        58\n",
      "\n",
      "    accuracy                           0.45       450\n",
      "   macro avg       0.51      0.45      0.42       450\n",
      "weighted avg       0.51      0.45      0.42       450\n",
      "\n",
      "Confusion matrix: \n",
      "\n",
      "[[35  0 13  0  0  1  2  4]\n",
      " [ 6 11 10  0  5  3  3  7]\n",
      " [20  0 42  1  0  0  1  0]\n",
      " [ 6  1 25  7  1  0  2  2]\n",
      " [ 0  0  1  0 44  0 21  0]\n",
      " [43  0 21  1  0  3  1  5]\n",
      " [12  0  3  0  4  1 24  0]\n",
      " [ 7  9  2  1  1  1  0 37]]\n"
     ]
    },
    {
     "name": "stderr",
     "output_type": "stream",
     "text": [
      "/home/wildan/.local/lib/python3.6/site-packages/sklearn/linear_model/_logistic.py:764: ConvergenceWarning: lbfgs failed to converge (status=1):\n",
      "STOP: TOTAL NO. of ITERATIONS REACHED LIMIT.\n",
      "\n",
      "Increase the number of iterations (max_iter) or scale the data as shown in:\n",
      "    https://scikit-learn.org/stable/modules/preprocessing.html\n",
      "Please also refer to the documentation for alternative solver options:\n",
      "    https://scikit-learn.org/stable/modules/linear_model.html#logistic-regression\n",
      "  extra_warning_msg=_LOGISTIC_SOLVER_CONVERGENCE_MSG)\n"
     ]
    }
   ],
   "source": [
    "lgr = LogisticRegression(random_state=0)\n",
    "lgr.fit(X_train,y_train[\"genre\"])\n",
    "lgr_pred = lgr.predict(X_test)\n",
    "\n",
    "# let's how our model performed\n",
    "print(\"Classificaion report: \\n\")\n",
    "print(classification_report(y_test[\"genre\"], lgr_pred))\n",
    "print(\"Confusion matrix: \\n\")\n",
    "print(confusion_matrix(y_test[\"genre\"], lgr_pred))"
   ]
  },
  {
   "cell_type": "code",
   "execution_count": null,
   "metadata": {},
   "outputs": [],
   "source": []
  }
 ],
 "metadata": {
  "kernelspec": {
   "display_name": "Python 3",
   "language": "python",
   "name": "python3"
  },
  "language_info": {
   "codemirror_mode": {
    "name": "ipython",
    "version": 3
   },
   "file_extension": ".py",
   "mimetype": "text/x-python",
   "name": "python",
   "nbconvert_exporter": "python",
   "pygments_lexer": "ipython3",
   "version": "3.6.9"
  }
 },
 "nbformat": 4,
 "nbformat_minor": 4
}
