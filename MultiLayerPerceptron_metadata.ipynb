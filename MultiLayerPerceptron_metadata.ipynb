{
 "cells": [
  {
   "cell_type": "code",
   "execution_count": 1,
   "metadata": {},
   "outputs": [],
   "source": [
    "import pandas as pd\n",
    "from sklearn.feature_extraction.text import TfidfVectorizer\n",
    "from sklearn.metrics import confusion_matrix, classification_report\n",
    "from sklearn.neural_network import MLPClassifier\n",
    "from sklearn.preprocessing import MinMaxScaler\n",
    "\n",
    "X_train = pd.read_csv(\"dataset/train_features.csv\")\n",
    "y_train = pd.read_csv(\"dataset/train_labels.csv\")\n",
    "X_test = pd.read_csv(\"dataset/valid_features.csv\")\n",
    "y_test = pd.read_csv(\"dataset/valid_labels.csv\")\n",
    "\n",
    "X_train = pd.DataFrame(X_train, columns=[\"loudness\",\"title\",\"tempo\", \"time_signature\",\"key\",\"mode\",\"duration\"])\n",
    "X_test = pd.DataFrame(X_test, columns=[\"loudness\",\"title\",\"tempo\", \"time_signature\",\"key\",\"mode\",\"duration\"])\n",
    "\n",
    "cleanup_nums = {\"genre\": \n",
    "                {\"classic pop and rock\": 1, \n",
    "                 \"dance and electronica\": 2,\n",
    "                 \"folk\":3,\n",
    "                 \"jazz and blues\":4,\n",
    "                 \"metal\":5,\n",
    "                 \"pop\":6,\n",
    "                 \"punk\":7,\n",
    "                 \"soul and reggae\":8\n",
    "                }}\n",
    "y_train.replace(cleanup_nums, inplace=True)\n",
    "y_test.replace(cleanup_nums, inplace=True)\n",
    "\n",
    "\n",
    "tfidf_vect = TfidfVectorizer()\n",
    "X_title_cv_train = tfidf_vect.fit_transform(X_train['title'])\n",
    "df_title_cv_train = pd.DataFrame(X_title_cv_train.toarray(), columns=tfidf_vect.get_feature_names())\n",
    "X_train = pd.concat([X_train, df_title_cv_train], axis=1)\n",
    "X_train = X_train.drop([\"title\"], 1)\n",
    "\n",
    "X_title_cv_test = tfidf_vect.transform(X_test['title'])\n",
    "df_title_cv_test = pd.DataFrame(X_title_cv_test.toarray(), columns=tfidf_vect.get_feature_names())\n",
    "X_test = pd.concat([X_test, df_title_cv_test], axis=1)\n",
    "X_test = X_test.drop([\"title\"], 1)\n",
    "\n",
    "scaler = MinMaxScaler()\n",
    "scaler.fit(X_train)\n",
    "X_train = scaler.transform(X_train)\n",
    "X_test = scaler.transform(X_test)\n",
    "#X_train.head(10)"
   ]
  },
  {
   "cell_type": "code",
   "execution_count": 2,
   "metadata": {},
   "outputs": [
    {
     "name": "stdout",
     "output_type": "stream",
     "text": [
      "Classificaion report: \n",
      "\n",
      "              precision    recall  f1-score   support\n",
      "\n",
      "           1       0.18      0.33      0.23        55\n",
      "           2       0.20      0.16      0.18        45\n",
      "           3       0.34      0.39      0.36        64\n",
      "           4       0.35      0.14      0.20        44\n",
      "           5       0.54      0.30      0.39        66\n",
      "           6       0.69      0.55      0.62        74\n",
      "           7       0.45      0.59      0.51        44\n",
      "           8       0.22      0.26      0.24        58\n",
      "\n",
      "    accuracy                           0.35       450\n",
      "   macro avg       0.37      0.34      0.34       450\n",
      "weighted avg       0.39      0.35      0.36       450\n",
      "\n",
      "Confusion matrix: \n",
      "\n",
      "[[18  7 10  4  1  3  1 11]\n",
      " [ 8  7  8  1  3  1  6 11]\n",
      " [18  3 25  3  3  1  2  9]\n",
      " [13  2 11  6  3  1  1  7]\n",
      " [ 9  6  4  0 20  4 13 10]\n",
      " [17  2  3  0  0 41  6  5]\n",
      " [ 7  2  3  1  1  4 26  0]\n",
      " [12  6 10  2  6  4  3 15]]\n"
     ]
    },
    {
     "name": "stderr",
     "output_type": "stream",
     "text": [
      "/home/wildan/.local/lib/python3.6/site-packages/sklearn/neural_network/_multilayer_perceptron.py:585: ConvergenceWarning: Stochastic Optimizer: Maximum iterations (300) reached and the optimization hasn't converged yet.\n",
      "  % self.max_iter, ConvergenceWarning)\n"
     ]
    }
   ],
   "source": [
    "lgr = MLPClassifier(random_state=1, max_iter=300)\n",
    "lgr.fit(X_train,y_train[\"genre\"])\n",
    "lgr_pred = lgr.predict(X_test)\n",
    "\n",
    "# let's how our model performed\n",
    "print(\"Classificaion report: \\n\")\n",
    "print(classification_report(y_test[\"genre\"], lgr_pred))\n",
    "print(\"Confusion matrix: \\n\")\n",
    "print(confusion_matrix(y_test[\"genre\"], lgr_pred))"
   ]
  },
  {
   "cell_type": "code",
   "execution_count": null,
   "metadata": {},
   "outputs": [],
   "source": []
  }
 ],
 "metadata": {
  "kernelspec": {
   "display_name": "Python 3",
   "language": "python",
   "name": "python3"
  },
  "language_info": {
   "codemirror_mode": {
    "name": "ipython",
    "version": 3
   },
   "file_extension": ".py",
   "mimetype": "text/x-python",
   "name": "python",
   "nbconvert_exporter": "python",
   "pygments_lexer": "ipython3",
   "version": "3.6.9"
  }
 },
 "nbformat": 4,
 "nbformat_minor": 4
}
