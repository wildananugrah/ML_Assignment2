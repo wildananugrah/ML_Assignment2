{
 "cells": [
  {
   "cell_type": "code",
   "execution_count": null,
   "metadata": {},
   "outputs": [],
   "source": [
    "import pandas as pd\n",
    "from sklearn.feature_extraction.text import TfidfVectorizer\n",
    "from sklearn.metrics import confusion_matrix, classification_report\n",
    "from sklearn.linear_model import LogisticRegression\n",
    "from sklearn.preprocessing import MinMaxScaler\n",
    "\n",
    "X_train = pd.read_csv(\"dataset/train_features.csv\")\n",
    "y_train = pd.read_csv(\"dataset/train_labels.csv\")\n",
    "X_test = pd.read_csv(\"dataset/valid_features.csv\")\n",
    "y_test = pd.read_csv(\"dataset/valid_labels.csv\")\n",
    "\n",
    "X_train = pd.DataFrame(X_train, columns=[\"loudness\",\"title\",\"tempo\", \"time_signature\",\"key\",\"mode\",\"duration\"])\n",
    "X_test = pd.DataFrame(X_test, columns=[\"loudness\",\"title\",\"tempo\", \"time_signature\",\"key\",\"mode\",\"duration\"])\n",
    "\n",
    "cleanup_nums = {\"genre\": \n",
    "                {\"classic pop and rock\": 1, \n",
    "                 \"dance and electronica\": 2,\n",
    "                 \"folk\":3,\n",
    "                 \"jazz and blues\":4,\n",
    "                 \"metal\":5,\n",
    "                 \"pop\":6,\n",
    "                 \"punk\":7,\n",
    "                 \"soul and reggae\":8\n",
    "                }}\n",
    "y_train.replace(cleanup_nums, inplace=True)\n",
    "y_test.replace(cleanup_nums, inplace=True)\n",
    "\n",
    "\n",
    "tfidf_vect = TfidfVectorizer()\n",
    "X_title_cv_train = tfidf_vect.fit_transform(X_train['title'])\n",
    "df_title_cv_train = pd.DataFrame(X_title_cv_train.toarray(), columns=tfidf_vect.get_feature_names())\n",
    "X_train = pd.concat([X_train, df_title_cv_train], axis=1)\n",
    "X_train = X_train.drop([\"title\"], 1)\n",
    "\n",
    "X_title_cv_test = tfidf_vect.transform(X_test['title'])\n",
    "df_title_cv_test = pd.DataFrame(X_title_cv_test.toarray(), columns=tfidf_vect.get_feature_names())\n",
    "X_test = pd.concat([X_test, df_title_cv_test], axis=1)\n",
    "X_test = X_test.drop([\"title\"], 1)\n",
    "\n",
    "scaler = MinMaxScaler()\n",
    "scaler.fit(X_train)\n",
    "X_train = scaler.transform(X_train)\n",
    "X_test = scaler.transform(X_test)\n"
   ]
  },
  {
   "cell_type": "code",
   "execution_count": 2,
   "metadata": {},
   "outputs": [
    {
     "name": "stdout",
     "output_type": "stream",
     "text": [
      "Classificaion report: \n",
      "\n",
      "              precision    recall  f1-score   support\n",
      "\n",
      "           1       0.24      0.51      0.32        55\n",
      "           2       0.20      0.02      0.04        45\n",
      "           3       0.31      0.53      0.40        64\n",
      "           4       1.00      0.02      0.04        44\n",
      "           5       0.66      0.73      0.69        66\n",
      "           6       0.87      0.53      0.66        74\n",
      "           7       0.43      0.59      0.50        44\n",
      "           8       0.38      0.26      0.31        58\n",
      "\n",
      "    accuracy                           0.43       450\n",
      "   macro avg       0.51      0.40      0.37       450\n",
      "weighted avg       0.52      0.43      0.40       450\n",
      "\n",
      "Confusion matrix: \n",
      "\n",
      "[[28  0 18  0  1  0  3  5]\n",
      " [13  1 10  0  6  1  7  7]\n",
      " [19  1 34  0  4  0  3  3]\n",
      " [18  1 15  1  3  0  0  6]\n",
      " [ 7  0  1  0 48  0 10  0]\n",
      " [14  0 11  0  1 39  7  2]\n",
      " [ 3  1  7  0  2  4 26  1]\n",
      " [16  1 12  0  8  1  5 15]]\n"
     ]
    },
    {
     "name": "stderr",
     "output_type": "stream",
     "text": [
      "/home/wildan/.local/lib/python3.6/site-packages/sklearn/linear_model/_logistic.py:764: ConvergenceWarning: lbfgs failed to converge (status=1):\n",
      "STOP: TOTAL NO. of ITERATIONS REACHED LIMIT.\n",
      "\n",
      "Increase the number of iterations (max_iter) or scale the data as shown in:\n",
      "    https://scikit-learn.org/stable/modules/preprocessing.html\n",
      "Please also refer to the documentation for alternative solver options:\n",
      "    https://scikit-learn.org/stable/modules/linear_model.html#logistic-regression\n",
      "  extra_warning_msg=_LOGISTIC_SOLVER_CONVERGENCE_MSG)\n"
     ]
    }
   ],
   "source": [
    "lgr = LogisticRegression(random_state=0)\n",
    "lgr.fit(X_train,y_train[\"genre\"])\n",
    "lgr_pred = lgr.predict(X_test)\n",
    "\n",
    "# let's how our model performed\n",
    "print(\"Classificaion report: \\n\")\n",
    "print(classification_report(y_test[\"genre\"], lgr_pred))\n",
    "print(\"Confusion matrix: \\n\")\n",
    "print(confusion_matrix(y_test[\"genre\"], lgr_pred))"
   ]
  },
  {
   "cell_type": "code",
   "execution_count": null,
   "metadata": {},
   "outputs": [],
   "source": []
  }
 ],
 "metadata": {
  "kernelspec": {
   "display_name": "Python 3",
   "language": "python",
   "name": "python3"
  },
  "language_info": {
   "codemirror_mode": {
    "name": "ipython",
    "version": 3
   },
   "file_extension": ".py",
   "mimetype": "text/x-python",
   "name": "python",
   "nbconvert_exporter": "python",
   "pygments_lexer": "ipython3",
   "version": "3.6.9"
  }
 },
 "nbformat": 4,
 "nbformat_minor": 4
}
