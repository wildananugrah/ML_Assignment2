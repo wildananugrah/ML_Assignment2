{
 "cells": [
  {
   "cell_type": "code",
   "execution_count": 3,
   "metadata": {},
   "outputs": [
    {
     "data": {
      "text/plain": [
       "(7678, 148)"
      ]
     },
     "execution_count": 3,
     "metadata": {},
     "output_type": "execute_result"
    }
   ],
   "source": [
    "import pandas as pd\n",
    "from sklearn.feature_extraction.text import TfidfVectorizer\n",
    "from sklearn.metrics import confusion_matrix, classification_report\n",
    "from sklearn.linear_model import Perceptron\n",
    "from sklearn.preprocessing import MinMaxScaler\n",
    "\n",
    "X_train = pd.read_csv(\"dataset/train_features.csv\")\n",
    "y_train = pd.read_csv(\"dataset/train_labels.csv\")\n",
    "X_test = pd.read_csv(\"dataset/valid_features.csv\")\n",
    "y_test = pd.read_csv(\"dataset/valid_labels.csv\")\n",
    "\n",
    "cleanup_nums = {\"genre\": \n",
    "                {\"classic pop and rock\": 1, \n",
    "                 \"dance and electronica\": 2,\n",
    "                 \"folk\":3,\n",
    "                 \"jazz and blues\":4,\n",
    "                 \"metal\":5,\n",
    "                 \"pop\":6,\n",
    "                 \"punk\":7,\n",
    "                 \"soul and reggae\":8\n",
    "                }}\n",
    "\n",
    "y_train.replace(cleanup_nums, inplace=True)\n",
    "y_test.replace(cleanup_nums, inplace=True)\n",
    "\n",
    "X_train = pd.DataFrame(X_train)\n",
    "X_test = pd.DataFrame(X_test)\n",
    "\n",
    "X_train = X_train.drop([\"trackID\",\"loudness\",\"title\",\"tempo\", \"time_signature\",\"key\",\"mode\",\"duration\", \"tags\"], 1)\n",
    "X_test = X_test.drop([\"trackID\",\"loudness\",\"title\",\"tempo\", \"time_signature\",\"key\",\"mode\",\"duration\", \"tags\"], 1)\n",
    "\n",
    "scaler = MinMaxScaler()\n",
    "scaler.fit(X_train)\n",
    "X_train = scaler.transform(X_train)\n",
    "X_test = scaler.transform(X_test)\n",
    "X_train.shape"
   ]
  },
  {
   "cell_type": "code",
   "execution_count": 2,
   "metadata": {},
   "outputs": [
    {
     "name": "stdout",
     "output_type": "stream",
     "text": [
      "Classificaion report: \n",
      "\n",
      "              precision    recall  f1-score   support\n",
      "\n",
      "           1       0.13      0.13      0.13        55\n",
      "           2       0.78      0.16      0.26        45\n",
      "           3       0.75      0.09      0.17        64\n",
      "           4       0.00      0.00      0.00        44\n",
      "           5       0.87      0.20      0.32        66\n",
      "           6       0.00      0.00      0.00        74\n",
      "           7       0.40      0.61      0.49        44\n",
      "           8       0.19      0.97      0.31        58\n",
      "\n",
      "    accuracy                           0.26       450\n",
      "   macro avg       0.39      0.27      0.21       450\n",
      "weighted avg       0.39      0.26      0.20       450\n",
      "\n",
      "Confusion matrix: \n",
      "\n",
      "[[ 7  0  0  0  0  0  0 48]\n",
      " [ 2  7  1  0  2  0  3 30]\n",
      " [23  0  6  0  0  0  1 34]\n",
      " [ 4  0  1  0  0  0  3 36]\n",
      " [ 2  0  0  0 13  0 33 18]\n",
      " [ 9  0  0  0  0  0  0 65]\n",
      " [ 5  0  0  0  0  0 27 12]\n",
      " [ 0  2  0  0  0  0  0 56]]\n"
     ]
    },
    {
     "name": "stderr",
     "output_type": "stream",
     "text": [
      "/home/wildan/.local/lib/python3.6/site-packages/sklearn/metrics/_classification.py:1221: UndefinedMetricWarning: Precision and F-score are ill-defined and being set to 0.0 in labels with no predicted samples. Use `zero_division` parameter to control this behavior.\n",
      "  _warn_prf(average, modifier, msg_start, len(result))\n"
     ]
    }
   ],
   "source": [
    "lgr = Perceptron(tol=1e-3, random_state=0)\n",
    "lgr.fit(X_train,y_train[\"genre\"])\n",
    "lgr_pred = lgr.predict(X_test)\n",
    "\n",
    "# let's how our model performed\n",
    "print(\"Classificaion report: \\n\")\n",
    "print(classification_report(y_test[\"genre\"], lgr_pred))\n",
    "print(\"Confusion matrix: \\n\")\n",
    "print(confusion_matrix(y_test[\"genre\"], lgr_pred))"
   ]
  },
  {
   "cell_type": "code",
   "execution_count": null,
   "metadata": {},
   "outputs": [],
   "source": []
  }
 ],
 "metadata": {
  "kernelspec": {
   "display_name": "Python 3",
   "language": "python",
   "name": "python3"
  },
  "language_info": {
   "codemirror_mode": {
    "name": "ipython",
    "version": 3
   },
   "file_extension": ".py",
   "mimetype": "text/x-python",
   "name": "python",
   "nbconvert_exporter": "python",
   "pygments_lexer": "ipython3",
   "version": "3.6.9"
  }
 },
 "nbformat": 4,
 "nbformat_minor": 4
}
