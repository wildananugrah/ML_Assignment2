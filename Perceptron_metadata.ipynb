{
 "cells": [
  {
   "cell_type": "code",
   "execution_count": 6,
   "metadata": {},
   "outputs": [
    {
     "data": {
      "text/plain": [
       "(7678, 6354)"
      ]
     },
     "execution_count": 6,
     "metadata": {},
     "output_type": "execute_result"
    }
   ],
   "source": [
    "import pandas as pd\n",
    "from sklearn.feature_extraction.text import TfidfVectorizer\n",
    "from sklearn.metrics import confusion_matrix, classification_report\n",
    "from sklearn.linear_model import Perceptron\n",
    "from sklearn.preprocessing import MinMaxScaler\n",
    "\n",
    "X_train = pd.read_csv(\"dataset/train_features.csv\")\n",
    "y_train = pd.read_csv(\"dataset/train_labels.csv\")\n",
    "X_test = pd.read_csv(\"dataset/valid_features.csv\")\n",
    "y_test = pd.read_csv(\"dataset/valid_labels.csv\")\n",
    "\n",
    "X_train = pd.DataFrame(X_train, columns=[\"loudness\",\"title\",\"tempo\", \"time_signature\",\"key\",\"mode\",\"duration\"])\n",
    "X_test = pd.DataFrame(X_test, columns=[\"loudness\",\"title\",\"tempo\", \"time_signature\",\"key\",\"mode\",\"duration\"])\n",
    "\n",
    "cleanup_nums = {\"genre\": \n",
    "                {\"classic pop and rock\": 1, \n",
    "                 \"dance and electronica\": 2,\n",
    "                 \"folk\":3,\n",
    "                 \"jazz and blues\":4,\n",
    "                 \"metal\":5,\n",
    "                 \"pop\":6,\n",
    "                 \"punk\":7,\n",
    "                 \"soul and reggae\":8\n",
    "                }}\n",
    "y_train.replace(cleanup_nums, inplace=True)\n",
    "y_test.replace(cleanup_nums, inplace=True)\n",
    "\n",
    "\n",
    "tfidf_vect = TfidfVectorizer()\n",
    "X_title_cv_train = tfidf_vect.fit_transform(X_train['title'])\n",
    "df_title_cv_train = pd.DataFrame(X_title_cv_train.toarray(), columns=tfidf_vect.get_feature_names())\n",
    "X_train = pd.concat([X_train, df_title_cv_train], axis=1)\n",
    "X_train = X_train.drop([\"title\"], 1)\n",
    "\n",
    "X_title_cv_test = tfidf_vect.transform(X_test['title'])\n",
    "df_title_cv_test = pd.DataFrame(X_title_cv_test.toarray(), columns=tfidf_vect.get_feature_names())\n",
    "X_test = pd.concat([X_test, df_title_cv_test], axis=1)\n",
    "X_test = X_test.drop([\"title\"], 1)\n",
    "\n",
    "scaler = MinMaxScaler()\n",
    "scaler.fit(X_train)\n",
    "X_train = scaler.transform(X_train)\n",
    "X_test = scaler.transform(X_test)\n",
    "X_train.shape"
   ]
  },
  {
   "cell_type": "code",
   "execution_count": 2,
   "metadata": {},
   "outputs": [
    {
     "name": "stdout",
     "output_type": "stream",
     "text": [
      "Classificaion report: \n",
      "\n",
      "              precision    recall  f1-score   support\n",
      "\n",
      "           1       0.23      0.40      0.29        55\n",
      "           2       0.00      0.00      0.00        45\n",
      "           3       0.30      0.47      0.37        64\n",
      "           4       0.21      0.07      0.10        44\n",
      "           5       0.61      0.33      0.43        66\n",
      "           6       0.72      0.53      0.61        74\n",
      "           7       0.25      0.70      0.37        44\n",
      "           8       0.29      0.09      0.13        58\n",
      "\n",
      "    accuracy                           0.34       450\n",
      "   macro avg       0.33      0.32      0.29       450\n",
      "weighted avg       0.36      0.34      0.31       450\n",
      "\n",
      "Confusion matrix: \n",
      "\n",
      "[[22  1 17  2  1  1 10  1]\n",
      " [13  0  8  4  1  3 12  4]\n",
      " [20  1 30  2  0  2  7  2]\n",
      " [13  0 19  3  2  0  6  1]\n",
      " [ 8  1  3  0 22  2 26  4]\n",
      " [ 6  1  9  1  1 39 17  0]\n",
      " [ 4  2  3  1  0  3 31  0]\n",
      " [11  2 11  1  9  4 15  5]]\n"
     ]
    }
   ],
   "source": [
    "lgr = Perceptron(tol=1e-3, random_state=0)\n",
    "lgr.fit(X_train,y_train[\"genre\"])\n",
    "lgr_pred = lgr.predict(X_test)\n",
    "\n",
    "# let's how our model performed\n",
    "print(\"Classificaion report: \\n\")\n",
    "print(classification_report(y_test[\"genre\"], lgr_pred))\n",
    "print(\"Confusion matrix: \\n\")\n",
    "print(confusion_matrix(y_test[\"genre\"], lgr_pred))"
   ]
  },
  {
   "cell_type": "code",
   "execution_count": null,
   "metadata": {},
   "outputs": [],
   "source": []
  }
 ],
 "metadata": {
  "kernelspec": {
   "display_name": "Python 3",
   "language": "python",
   "name": "python3"
  },
  "language_info": {
   "codemirror_mode": {
    "name": "ipython",
    "version": 3
   },
   "file_extension": ".py",
   "mimetype": "text/x-python",
   "name": "python",
   "nbconvert_exporter": "python",
   "pygments_lexer": "ipython3",
   "version": "3.6.9"
  }
 },
 "nbformat": 4,
 "nbformat_minor": 4
}
